{
 "cells": [
  {
   "cell_type": "code",
   "execution_count": 7,
   "id": "d490d89a-11cd-45e3-8a30-ad21843d06a1",
   "metadata": {},
   "outputs": [],
   "source": [
    "library(tidyverse)\n",
    "library(cowplot)\n",
    "library(repr)\n",
    "library(tidymodels)\n",
    "set.seed(8) "
   ]
  },
  {
   "cell_type": "code",
   "execution_count": 8,
   "id": "796bd227-95ce-4f84-8824-a3a70ba37948",
   "metadata": {},
   "outputs": [
    {
     "data": {
      "text/html": [
       "<table class=\"dataframe\">\n",
       "<caption>A tibble: 5 × 9</caption>\n",
       "<thead>\n",
       "\t<tr><th scope=col>integrated_profile_mean</th><th scope=col>integrated_profile_std</th><th scope=col>integrated_profile_excess_kurtosis</th><th scope=col>integrated_profile_skewness</th><th scope=col>dm_snr_curve_mean</th><th scope=col>dm_snr_curve_std</th><th scope=col>dm_snr_curve_excess_kurtosis</th><th scope=col>dm_snr_curve_skewness</th><th scope=col>is_pulsar_star</th></tr>\n",
       "\t<tr><th scope=col>&lt;dbl&gt;</th><th scope=col>&lt;dbl&gt;</th><th scope=col>&lt;dbl&gt;</th><th scope=col>&lt;dbl&gt;</th><th scope=col>&lt;dbl&gt;</th><th scope=col>&lt;dbl&gt;</th><th scope=col>&lt;dbl&gt;</th><th scope=col>&lt;dbl&gt;</th><th scope=col>&lt;fct&gt;</th></tr>\n",
       "</thead>\n",
       "<tbody>\n",
       "\t<tr><td>120.26562</td><td>40.97150</td><td>-0.0621932</td><td> 0.7003721</td><td> 4.875418</td><td>27.06243</td><td>6.423170</td><td>43.4495277</td><td>0</td></tr>\n",
       "\t<tr><td> 48.07812</td><td>32.40023</td><td> 3.5966131</td><td>17.3149805</td><td>64.764214</td><td>72.62912</td><td>1.105638</td><td> 0.2806927</td><td>1</td></tr>\n",
       "\t<tr><td>101.28906</td><td>35.08676</td><td> 0.4551854</td><td> 2.3095122</td><td> 2.858696</td><td>17.61976</td><td>8.189531</td><td>80.5372445</td><td>0</td></tr>\n",
       "\t<tr><td>147.40625</td><td>46.14624</td><td>-0.5610487</td><td> 0.5355521</td><td> 2.950669</td><td>17.15384</td><td>8.361733</td><td>86.4214103</td><td>0</td></tr>\n",
       "\t<tr><td> 91.66406</td><td>38.91282</td><td> 0.2377319</td><td> 1.5010685</td><td> 3.525920</td><td>19.23582</td><td>6.971174</td><td>56.6734882</td><td>0</td></tr>\n",
       "</tbody>\n",
       "</table>\n"
      ],
      "text/latex": [
       "A tibble: 5 × 9\n",
       "\\begin{tabular}{lllllllll}\n",
       " integrated\\_profile\\_mean & integrated\\_profile\\_std & integrated\\_profile\\_excess\\_kurtosis & integrated\\_profile\\_skewness & dm\\_snr\\_curve\\_mean & dm\\_snr\\_curve\\_std & dm\\_snr\\_curve\\_excess\\_kurtosis & dm\\_snr\\_curve\\_skewness & is\\_pulsar\\_star\\\\\n",
       " <dbl> & <dbl> & <dbl> & <dbl> & <dbl> & <dbl> & <dbl> & <dbl> & <fct>\\\\\n",
       "\\hline\n",
       "\t 120.26562 & 40.97150 & -0.0621932 &  0.7003721 &  4.875418 & 27.06243 & 6.423170 & 43.4495277 & 0\\\\\n",
       "\t  48.07812 & 32.40023 &  3.5966131 & 17.3149805 & 64.764214 & 72.62912 & 1.105638 &  0.2806927 & 1\\\\\n",
       "\t 101.28906 & 35.08676 &  0.4551854 &  2.3095122 &  2.858696 & 17.61976 & 8.189531 & 80.5372445 & 0\\\\\n",
       "\t 147.40625 & 46.14624 & -0.5610487 &  0.5355521 &  2.950669 & 17.15384 & 8.361733 & 86.4214103 & 0\\\\\n",
       "\t  91.66406 & 38.91282 &  0.2377319 &  1.5010685 &  3.525920 & 19.23582 & 6.971174 & 56.6734882 & 0\\\\\n",
       "\\end{tabular}\n"
      ],
      "text/markdown": [
       "\n",
       "A tibble: 5 × 9\n",
       "\n",
       "| integrated_profile_mean &lt;dbl&gt; | integrated_profile_std &lt;dbl&gt; | integrated_profile_excess_kurtosis &lt;dbl&gt; | integrated_profile_skewness &lt;dbl&gt; | dm_snr_curve_mean &lt;dbl&gt; | dm_snr_curve_std &lt;dbl&gt; | dm_snr_curve_excess_kurtosis &lt;dbl&gt; | dm_snr_curve_skewness &lt;dbl&gt; | is_pulsar_star &lt;fct&gt; |\n",
       "|---|---|---|---|---|---|---|---|---|\n",
       "| 120.26562 | 40.97150 | -0.0621932 |  0.7003721 |  4.875418 | 27.06243 | 6.423170 | 43.4495277 | 0 |\n",
       "|  48.07812 | 32.40023 |  3.5966131 | 17.3149805 | 64.764214 | 72.62912 | 1.105638 |  0.2806927 | 1 |\n",
       "| 101.28906 | 35.08676 |  0.4551854 |  2.3095122 |  2.858696 | 17.61976 | 8.189531 | 80.5372445 | 0 |\n",
       "| 147.40625 | 46.14624 | -0.5610487 |  0.5355521 |  2.950669 | 17.15384 | 8.361733 | 86.4214103 | 0 |\n",
       "|  91.66406 | 38.91282 |  0.2377319 |  1.5010685 |  3.525920 | 19.23582 | 6.971174 | 56.6734882 | 0 |\n",
       "\n"
      ],
      "text/plain": [
       "  integrated_profile_mean integrated_profile_std\n",
       "1 120.26562               40.97150              \n",
       "2  48.07812               32.40023              \n",
       "3 101.28906               35.08676              \n",
       "4 147.40625               46.14624              \n",
       "5  91.66406               38.91282              \n",
       "  integrated_profile_excess_kurtosis integrated_profile_skewness\n",
       "1 -0.0621932                          0.7003721                 \n",
       "2  3.5966131                         17.3149805                 \n",
       "3  0.4551854                          2.3095122                 \n",
       "4 -0.5610487                          0.5355521                 \n",
       "5  0.2377319                          1.5010685                 \n",
       "  dm_snr_curve_mean dm_snr_curve_std dm_snr_curve_excess_kurtosis\n",
       "1  4.875418         27.06243         6.423170                    \n",
       "2 64.764214         72.62912         1.105638                    \n",
       "3  2.858696         17.61976         8.189531                    \n",
       "4  2.950669         17.15384         8.361733                    \n",
       "5  3.525920         19.23582         6.971174                    \n",
       "  dm_snr_curve_skewness is_pulsar_star\n",
       "1 43.4495277            0             \n",
       "2  0.2806927            1             \n",
       "3 80.5372445            0             \n",
       "4 86.4214103            0             \n",
       "5 56.6734882            0             "
      ]
     },
     "metadata": {},
     "output_type": "display_data"
    }
   ],
   "source": [
    "star_data <- read_csv(\"HTRU_2.csv\", col_names=FALSE, show_col_types = FALSE) |>\n",
    "    mutate(X9 = as_factor(X9))\n",
    "\n",
    "colnames(star_data) <- c(\"integrated_profile_mean\", \"integrated_profile_std\", \n",
    "                         \"integrated_profile_excess_kurtosis\",\"integrated_profile_skewness\",\n",
    "                         \"dm_snr_curve_mean\",\"dm_snr_curve_std\",\n",
    "                         \"dm_snr_curve_excess_kurtosis\",\"dm_snr_curve_skewness\",\n",
    "                         \"is_pulsar_star\")\n",
    "\n",
    "sample_n(star_data, 5)"
   ]
  },
  {
   "cell_type": "code",
   "execution_count": 9,
   "id": "af60a7e1-14bc-49b0-8d8e-2d1e14be36d3",
   "metadata": {},
   "outputs": [
    {
     "name": "stdout",
     "output_type": "stream",
     "text": [
      "[1] \"This is a push test\"\n"
     ]
    }
   ],
   "source": [
    "print(\"This is a push test\")"
   ]
  },
  {
   "cell_type": "code",
   "execution_count": null,
   "id": "c8c3bebd-7810-4164-90bf-e0712d0fd020",
   "metadata": {},
   "outputs": [],
   "source": []
  }
 ],
 "metadata": {
  "kernelspec": {
   "display_name": "R",
   "language": "R",
   "name": "ir"
  },
  "language_info": {
   "codemirror_mode": "r",
   "file_extension": ".r",
   "mimetype": "text/x-r-source",
   "name": "R",
   "pygments_lexer": "r",
   "version": "4.3.1"
  }
 },
 "nbformat": 4,
 "nbformat_minor": 5
}
